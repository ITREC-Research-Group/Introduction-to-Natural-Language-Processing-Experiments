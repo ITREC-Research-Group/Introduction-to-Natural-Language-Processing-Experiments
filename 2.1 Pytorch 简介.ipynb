{
 "cells": [
  {
   "cell_type": "markdown",
   "metadata": {},
   "source": [
    "# Deep learning for NLP\n",
    "\n",
    "本次课的主要内容：\n",
    "- 简要了解pytorch，以及训练深度模型的步骤\n",
    "- 使用LSTM进行语言建模\n",
    "- 使用TextCNN进行文本分类"
   ]
  },
  {
   "cell_type": "markdown",
   "metadata": {},
   "source": [
    "## 1. Pytorch\n",
    "\n",
    "官网：https://pytorch.org/\n",
    "\n",
    "- tensor\n",
    "- 自动求导\n",
    "- 深度学习流程\n",
    "    - 加载数据\n",
    "    - 建立模型\n",
    "    - 选择优化器\n",
    "    - 训练\n",
    "    - 保存和加载模型\n",
    "\n",
    "参考：\n",
    "- https://pytorch.org/tutorials/beginner/basics/tensorqs_tutorial.html\n",
    "- https://pytorch.org/tutorials/beginner/basics/quickstart_tutorial.html"
   ]
  },
  {
   "cell_type": "code",
   "execution_count": 1,
   "metadata": {},
   "outputs": [
    {
     "name": "stdout",
     "output_type": "stream",
     "text": [
      "2.0.1+cu118\n",
      "True\n",
      "1\n"
     ]
    }
   ],
   "source": [
    "import torch\n",
    "\n",
    "print(torch.__version__)\n",
    "print(torch.cuda.is_available())\n",
    "print(torch.cuda.device_count())"
   ]
  },
  {
   "cell_type": "code",
   "execution_count": 2,
   "metadata": {},
   "outputs": [
    {
     "name": "stdout",
     "output_type": "stream",
     "text": [
      "tensor([[1, 2],\n",
      "        [3, 4]])\n",
      "torch.Size([2, 2])\n",
      "torch.int64\n",
      "cpu\n",
      "tensor([[1, 3],\n",
      "        [2, 4]])\n"
     ]
    }
   ],
   "source": [
    "data = [[1, 2], [3, 4]]\n",
    "x_data = torch.tensor(data)\n",
    "\n",
    "print(x_data)\n",
    "print(x_data.shape)\n",
    "print(x_data.dtype)\n",
    "print(x_data.device)\n",
    "\n",
    "print(x_data.t())"
   ]
  },
  {
   "cell_type": "code",
   "execution_count": 3,
   "metadata": {},
   "outputs": [
    {
     "name": "stdout",
     "output_type": "stream",
     "text": [
      "tensor([[1, 2],\n",
      "        [3, 4]], device='cuda:0')\n",
      "cuda:0\n"
     ]
    }
   ],
   "source": [
    "x_data_cuda = x_data.cuda()\n",
    "\n",
    "print(x_data_cuda)\n",
    "print(x_data_cuda.device)"
   ]
  },
  {
   "cell_type": "markdown",
   "metadata": {},
   "source": [
    "**一个简单的例子**: 逻辑回归\n",
    "\n",
    "<img src='img/逻辑回归.JPG' width=500>"
   ]
  },
  {
   "cell_type": "code",
   "execution_count": 4,
   "metadata": {},
   "outputs": [
    {
     "name": "stdout",
     "output_type": "stream",
     "text": [
      "tensor([[0., 0.],\n",
      "        [0., 1.],\n",
      "        [1., 0.],\n",
      "        [1., 1.]])\n",
      "tensor([[0],\n",
      "        [0],\n",
      "        [0],\n",
      "        [1]])\n"
     ]
    }
   ],
   "source": [
    "x = torch.tensor([[0., 0.],\n",
    "                  [0., 1.],\n",
    "                  [1., 0.],\n",
    "                  [1., 1.]])\n",
    "y = torch.tensor([[0], [0], [0], [1]])\n",
    "\n",
    "print(x)\n",
    "print(y)"
   ]
  },
  {
   "cell_type": "code",
   "execution_count": 5,
   "metadata": {},
   "outputs": [
    {
     "name": "stdout",
     "output_type": "stream",
     "text": [
      "Iter  1, loss: 0.7826, accuracy: 0.25\n",
      "Iter  2, loss: 0.7686, accuracy: 0.25\n",
      "Iter  3, loss: 0.7555, accuracy: 0.25\n",
      "Iter  4, loss: 0.7431, accuracy: 0.25\n",
      "Iter  5, loss: 0.7315, accuracy: 0.25\n",
      "Iter  6, loss: 0.7207, accuracy: 0.25\n",
      "Iter  7, loss: 0.7105, accuracy: 0.25\n",
      "Iter  8, loss: 0.7009, accuracy: 0.25\n",
      "Iter  9, loss: 0.6919, accuracy: 0.50\n",
      "Iter 10, loss: 0.6834, accuracy: 0.50\n",
      "Iter 11, loss: 0.6754, accuracy: 0.50\n",
      "Iter 12, loss: 0.6678, accuracy: 0.75\n",
      "Iter 13, loss: 0.6607, accuracy: 0.75\n",
      "Iter 14, loss: 0.6540, accuracy: 0.75\n",
      "Iter 15, loss: 0.6477, accuracy: 0.75\n",
      "Iter 16, loss: 0.6417, accuracy: 0.75\n",
      "Iter 17, loss: 0.6360, accuracy: 0.75\n",
      "Iter 18, loss: 0.6306, accuracy: 0.75\n",
      "Iter 19, loss: 0.6254, accuracy: 1.00\n",
      "Iter 20, loss: 0.6205, accuracy: 1.00\n"
     ]
    }
   ],
   "source": [
    "import torch.nn.functional as F\n",
    "\n",
    "seed = 42\n",
    "torch.manual_seed(seed)\n",
    "torch.cuda.manual_seed(seed)\n",
    "\n",
    "w = torch.randn(2, 1)\n",
    "b = torch.randn(1)\n",
    "\n",
    "n_iter = 20\n",
    "learning_rate = 0.1\n",
    "\n",
    "for i in range(n_iter):\n",
    "    # (4,2) @ (2,1) + (1,) = (4,1)\n",
    "    z = x @ w + b\n",
    "    y_hat = torch.sigmoid(z)\n",
    "\n",
    "    loss = F.binary_cross_entropy(y_hat, y.float())\n",
    "    accuracy = ((y_hat > 0.5) == y).float().mean()\n",
    "    print(f'Iter {i+1:2d}, loss: {loss:.4f}, accuracy: {accuracy:.2f}')\n",
    "\n",
    "    # (2,4) @ (4, 1) = (2, 1)\n",
    "    gradient_w = x.t() @ (y_hat - y) / x.size(0)\n",
    "    gradient_b = (y_hat-y).mean()\n",
    "\n",
    "    w = w - learning_rate * gradient_w\n",
    "    b = b - learning_rate * gradient_b"
   ]
  },
  {
   "cell_type": "code",
   "execution_count": 6,
   "metadata": {},
   "outputs": [
    {
     "name": "stdout",
     "output_type": "stream",
     "text": [
      "Iter  1, loss: 0.7826, accuracy: 0.25\n",
      "Iter  2, loss: 0.7686, accuracy: 0.25\n",
      "Iter  3, loss: 0.7555, accuracy: 0.25\n",
      "Iter  4, loss: 0.7431, accuracy: 0.25\n",
      "Iter  5, loss: 0.7315, accuracy: 0.25\n",
      "Iter  6, loss: 0.7207, accuracy: 0.25\n",
      "Iter  7, loss: 0.7105, accuracy: 0.25\n",
      "Iter  8, loss: 0.7009, accuracy: 0.25\n",
      "Iter  9, loss: 0.6919, accuracy: 0.50\n",
      "Iter 10, loss: 0.6834, accuracy: 0.50\n",
      "Iter 11, loss: 0.6754, accuracy: 0.50\n",
      "Iter 12, loss: 0.6678, accuracy: 0.75\n",
      "Iter 13, loss: 0.6607, accuracy: 0.75\n",
      "Iter 14, loss: 0.6540, accuracy: 0.75\n",
      "Iter 15, loss: 0.6477, accuracy: 0.75\n",
      "Iter 16, loss: 0.6417, accuracy: 0.75\n",
      "Iter 17, loss: 0.6360, accuracy: 0.75\n",
      "Iter 18, loss: 0.6306, accuracy: 0.75\n",
      "Iter 19, loss: 0.6254, accuracy: 1.00\n",
      "Iter 20, loss: 0.6205, accuracy: 1.00\n"
     ]
    }
   ],
   "source": [
    "seed = 42\n",
    "torch.manual_seed(seed)\n",
    "torch.cuda.manual_seed(seed)\n",
    "\n",
    "w = torch.randn(2, 1, requires_grad=True)\n",
    "b = torch.randn(1, requires_grad=True)\n",
    "\n",
    "n_iter = 20\n",
    "learning_rate = 0.1\n",
    "\n",
    "for i in range(n_iter):\n",
    "    # (4,2) @ (2,1) + (1,) = (4,1)\n",
    "    z = x @ w + b\n",
    "    y_hat = torch.sigmoid(z)\n",
    "\n",
    "    loss = F.binary_cross_entropy(y_hat, y.float())\n",
    "    accuracy = ((y_hat > 0.5) == y).float().mean()\n",
    "    print(f'Iter {i+1:2d}, loss: {loss:.4f}, accuracy: {accuracy:.2f}')\n",
    "\n",
    "    # 清空梯度\n",
    "    w.grad = None\n",
    "    b.grad = None\n",
    "\n",
    "    # 反向传播\n",
    "    loss.backward()\n",
    "\n",
    "    # gradient_w = x.t() @ (y_hat - y) / x.size(0)\n",
    "    # gradient_b = (y_hat-y).mean()\n",
    "\n",
    "    w.data = w.data - learning_rate * w.grad\n",
    "    b.data = b.data - learning_rate * b.grad"
   ]
  },
  {
   "cell_type": "code",
   "execution_count": 7,
   "metadata": {
    "tags": []
   },
   "outputs": [
    {
     "name": "stdout",
     "output_type": "stream",
     "text": [
      "Iter  1, loss: 0.6903, accuracy: 0.50\n",
      "Iter  2, loss: 0.6774, accuracy: 0.50\n",
      "Iter  3, loss: 0.6652, accuracy: 0.50\n",
      "Iter  4, loss: 0.6538, accuracy: 0.50\n",
      "Iter  5, loss: 0.6432, accuracy: 0.50\n",
      "Iter  6, loss: 0.6332, accuracy: 0.50\n",
      "Iter  7, loss: 0.6238, accuracy: 0.50\n",
      "Iter  8, loss: 0.6150, accuracy: 0.50\n",
      "Iter  9, loss: 0.6068, accuracy: 0.50\n",
      "Iter 10, loss: 0.5990, accuracy: 0.50\n",
      "Iter 11, loss: 0.5918, accuracy: 0.50\n",
      "Iter 12, loss: 0.5849, accuracy: 0.75\n",
      "Iter 13, loss: 0.5785, accuracy: 1.00\n",
      "Iter 14, loss: 0.5725, accuracy: 1.00\n",
      "Iter 15, loss: 0.5668, accuracy: 1.00\n",
      "Iter 16, loss: 0.5614, accuracy: 1.00\n",
      "Iter 17, loss: 0.5563, accuracy: 1.00\n",
      "Iter 18, loss: 0.5515, accuracy: 1.00\n",
      "Iter 19, loss: 0.5470, accuracy: 1.00\n",
      "Iter 20, loss: 0.5426, accuracy: 1.00\n"
     ]
    }
   ],
   "source": [
    "from torch import nn\n",
    "\n",
    "seed = 42\n",
    "torch.manual_seed(seed)\n",
    "torch.cuda.manual_seed(seed)\n",
    "\n",
    "# w = torch.randn(2, 1, requires_grad=True)\n",
    "# b = torch.randn(1, requires_grad=True)\n",
    "# nn.Linear: pytorch封装好的线性层\n",
    "model = nn.Linear(in_features=2, out_features=1)\n",
    "\n",
    "n_iter = 20\n",
    "learning_rate = 0.1\n",
    "\n",
    "for i in range(n_iter):\n",
    "    # (4,2) @ (2,1) + (1,) = (4,1)\n",
    "    z = model(x)\n",
    "    y_hat = torch.sigmoid(z)\n",
    "\n",
    "    loss = F.binary_cross_entropy(y_hat, y.float())\n",
    "    accuracy = ((y_hat > 0.5) == y).float().mean()\n",
    "    print(f'Iter {i+1:2d}, loss: {loss:.4f}, accuracy: {accuracy:.2f}')\n",
    "\n",
    "    # 清空梯度\n",
    "    # w.grad = None\n",
    "    # b.grad = None\n",
    "    model.zero_grad()\n",
    "\n",
    "    # 反向传播\n",
    "    loss.backward()\n",
    "\n",
    "    # gradient_w = x.t() @ (y_hat - y) / x.size(0)\n",
    "    # gradient_b = (y_hat-y).mean()\n",
    "\n",
    "    # 可以给每个模型绑定一个optimizer，\n",
    "    # 然后将这一步由 optimizer.step() 代替\n",
    "    model.weight.data = model.weight.data - learning_rate * model.weight.grad\n",
    "    model.bias.data = model.bias.data - learning_rate * model.bias.grad"
   ]
  },
  {
   "cell_type": "markdown",
   "metadata": {},
   "source": [
    "**一个更加正式的例子**\n",
    "\n",
    "- 加载数据\n",
    "- 建立模型\n",
    "- 选择优化器\n",
    "- 训练\n",
    "- 保存和加载模型"
   ]
  },
  {
   "cell_type": "code",
   "execution_count": 8,
   "metadata": {},
   "outputs": [
    {
     "name": "stdout",
     "output_type": "stream",
     "text": [
      "Downloading http://fashion-mnist.s3-website.eu-central-1.amazonaws.com/train-images-idx3-ubyte.gz\n",
      "Downloading http://fashion-mnist.s3-website.eu-central-1.amazonaws.com/train-images-idx3-ubyte.gz to data\\FashionMNIST\\raw\\train-images-idx3-ubyte.gz\n"
     ]
    },
    {
     "name": "stderr",
     "output_type": "stream",
     "text": [
      "100%|█████████████████████████████████████████████████████████████████| 26421880/26421880 [00:16<00:00, 1602794.57it/s]\n"
     ]
    },
    {
     "name": "stdout",
     "output_type": "stream",
     "text": [
      "Extracting data\\FashionMNIST\\raw\\train-images-idx3-ubyte.gz to data\\FashionMNIST\\raw\n",
      "\n",
      "Downloading http://fashion-mnist.s3-website.eu-central-1.amazonaws.com/train-labels-idx1-ubyte.gz\n",
      "Downloading http://fashion-mnist.s3-website.eu-central-1.amazonaws.com/train-labels-idx1-ubyte.gz to data\\FashionMNIST\\raw\\train-labels-idx1-ubyte.gz\n"
     ]
    },
    {
     "name": "stderr",
     "output_type": "stream",
     "text": [
      "100%|█████████████████████████████████████████████████████████████████████████| 29515/29515 [00:00<00:00, 90385.70it/s]\n"
     ]
    },
    {
     "name": "stdout",
     "output_type": "stream",
     "text": [
      "Extracting data\\FashionMNIST\\raw\\train-labels-idx1-ubyte.gz to data\\FashionMNIST\\raw\n",
      "\n",
      "Downloading http://fashion-mnist.s3-website.eu-central-1.amazonaws.com/t10k-images-idx3-ubyte.gz\n",
      "Downloading http://fashion-mnist.s3-website.eu-central-1.amazonaws.com/t10k-images-idx3-ubyte.gz to data\\FashionMNIST\\raw\\t10k-images-idx3-ubyte.gz\n"
     ]
    },
    {
     "name": "stderr",
     "output_type": "stream",
     "text": [
      "100%|████████████████████████████████████████████████████████████████████| 4422102/4422102 [00:05<00:00, 786364.68it/s]\n"
     ]
    },
    {
     "name": "stdout",
     "output_type": "stream",
     "text": [
      "Extracting data\\FashionMNIST\\raw\\t10k-images-idx3-ubyte.gz to data\\FashionMNIST\\raw\n",
      "\n",
      "Downloading http://fashion-mnist.s3-website.eu-central-1.amazonaws.com/t10k-labels-idx1-ubyte.gz\n",
      "Downloading http://fashion-mnist.s3-website.eu-central-1.amazonaws.com/t10k-labels-idx1-ubyte.gz to data\\FashionMNIST\\raw\\t10k-labels-idx1-ubyte.gz\n"
     ]
    },
    {
     "name": "stderr",
     "output_type": "stream",
     "text": [
      "100%|█████████████████████████████████████████████████████████████████████████| 5148/5148 [00:00<00:00, 5160678.06it/s]"
     ]
    },
    {
     "name": "stdout",
     "output_type": "stream",
     "text": [
      "Extracting data\\FashionMNIST\\raw\\t10k-labels-idx1-ubyte.gz to data\\FashionMNIST\\raw\n",
      "\n"
     ]
    },
    {
     "name": "stderr",
     "output_type": "stream",
     "text": [
      "\n"
     ]
    }
   ],
   "source": [
    "from torchvision import datasets\n",
    "from torchvision.transforms import ToTensor\n",
    "\n",
    "\n",
    "# 加载数据\n",
    "training_data = datasets.FashionMNIST(\n",
    "    root='data',\n",
    "    train=True,\n",
    "    download=True,\n",
    "    transform=ToTensor()\n",
    ")\n",
    "\n",
    "test_data = datasets.FashionMNIST(\n",
    "    root='data',\n",
    "    train=False,\n",
    "    download=True,\n",
    "    transform=ToTensor()\n",
    ")"
   ]
  },
  {
   "cell_type": "code",
   "execution_count": 9,
   "metadata": {},
   "outputs": [
    {
     "data": {
      "text/plain": [
       "<matplotlib.image.AxesImage at 0x28f36c1b310>"
      ]
     },
     "execution_count": 9,
     "metadata": {},
     "output_type": "execute_result"
    },
    {
     "data": {
      "image/png": "[encoded data removed]",
      "text/plain": [
       "<Figure size 640x480 with 1 Axes>"
      ]
     },
     "metadata": {},
     "output_type": "display_data"
    }
   ],
   "source": [
    "import matplotlib\n",
    "import matplotlib.pyplot as plt\n",
    "\n",
    "x, y = test_data[0]\n",
    "\n",
    "label = training_data.classes[y]\n",
    "\n",
    "plt.title(label)\n",
    "plt.imshow(x[0], cmap = matplotlib.cm.binary)"
   ]
  },
  {
   "cell_type": "code",
   "execution_count": 10,
   "metadata": {},
   "outputs": [
    {
     "name": "stdout",
     "output_type": "stream",
     "text": [
      "torch.Size([64, 1, 28, 28])\n",
      "torch.Size([64])\n"
     ]
    }
   ],
   "source": [
    "from torch.utils.data import DataLoader\n",
    "\n",
    "batch_size = 64\n",
    "\n",
    "# 将数据打包为dataloader\n",
    "train_dataloader = DataLoader(training_data, batch_size=batch_size)\n",
    "test_dataloader = DataLoader(test_data, batch_size=batch_size)\n",
    "\n",
    "for X, y in test_dataloader:\n",
    "    print(X.size())\n",
    "    print(y.size())\n",
    "    break"
   ]
  },
  {
   "cell_type": "code",
   "execution_count": 11,
   "metadata": {},
   "outputs": [
    {
     "data": {
      "text/plain": [
       "NeuralNetwork(\n",
       "  (linear_relu_stack): Sequential(\n",
       "    (0): Linear(in_features=784, out_features=512, bias=True)\n",
       "    (1): ReLU()\n",
       "    (2): Linear(in_features=512, out_features=512, bias=True)\n",
       "    (3): ReLU()\n",
       "    (4): Linear(in_features=512, out_features=10, bias=True)\n",
       "  )\n",
       ")"
      ]
     },
     "execution_count": 11,
     "metadata": {},
     "output_type": "execute_result"
    }
   ],
   "source": [
    "# 建立模型\n",
    "\n",
    "class NeuralNetwork(nn.Module):\n",
    "    def __init__(self):\n",
    "        super(NeuralNetwork, self).__init__()\n",
    "        self.linear_relu_stack = nn.Sequential(\n",
    "            nn.Linear(28*28, 512),\n",
    "            nn.ReLU(),\n",
    "            nn.Linear(512, 512),\n",
    "            nn.ReLU(),\n",
    "            nn.Linear(512, 10),\n",
    "        )\n",
    "\n",
    "    def forward(self, x):\n",
    "        # [64, 1, 28, 28] => [64, 28*28]\n",
    "        batch_size = x.size(0)\n",
    "        x = x.view(batch_size, -1)\n",
    "\n",
    "        # [64, 28*28] => [64, 10]\n",
    "        logits = self.linear_relu_stack(x)\n",
    "        return logits\n",
    "\n",
    "model = NeuralNetwork()\n",
    "# model.cuda()\n",
    "if torch.cuda.is_available():\n",
    "    model.cuda()\n",
    "\n",
    "model"
   ]
  },
  {
   "cell_type": "code",
   "execution_count": 12,
   "metadata": {},
   "outputs": [],
   "source": [
    "loss_func = nn.CrossEntropyLoss()\n",
    "optimizer = torch.optim.SGD(model.parameters(), lr=1e-3)"
   ]
  },
  {
   "cell_type": "code",
   "execution_count": 13,
   "metadata": {},
   "outputs": [],
   "source": [
    "def train(dataloader, model, loss_func, optimizer):\n",
    "    # 开启训练模式\n",
    "    model.train()\n",
    "\n",
    "    size = len(dataloader.dataset)\n",
    "    for batch_idx, (X, y) in enumerate(dataloader):\n",
    "        if torch.cuda.is_available():\n",
    "            X = X.cuda()\n",
    "            y = y.cuda()\n",
    "\n",
    "        pred = model(X)\n",
    "        loss = loss_func(pred, y)\n",
    "\n",
    "        optimizer.zero_grad()\n",
    "        loss.backward()\n",
    "        optimizer.step()\n",
    "\n",
    "        if (batch_idx+1) % 100 == 0:\n",
    "            current = (batch_idx+1) * X.size(0)\n",
    "            print(f'loss: {loss.item():.7f}  [{current:5d}/{size:5d}]')"
   ]
  },
  {
   "cell_type": "code",
   "execution_count": 14,
   "metadata": {},
   "outputs": [],
   "source": [
    "def test(dataloader, model, loss_func):\n",
    "    # 关闭训练模式\n",
    "    model.eval()\n",
    "    test_loss = 0\n",
    "    correct_num = 0\n",
    "\n",
    "    with torch.no_grad():\n",
    "        for X, y in dataloader:\n",
    "            if torch.cuda.is_available():   \n",
    "                X = X.cuda()\n",
    "                y = y.cuda()\n",
    "\n",
    "            pred = model(X)\n",
    "\n",
    "            test_loss = test_loss + loss_func(pred, y).item()\n",
    "            correct_num = correct_num + (pred.argmax(1) == y).float().sum().item()\n",
    "        test_loss = test_loss / len(dataloader)\n",
    "        accuracy = correct_num / len(dataloader.dataset)\n",
    "\n",
    "        print(f'Accuracy: {accuracy:.4f}, Test Loss: {test_loss:.8f}\\n')"
   ]
  },
  {
   "cell_type": "code",
   "execution_count": 15,
   "metadata": {},
   "outputs": [
    {
     "name": "stdout",
     "output_type": "stream",
     "text": [
      "Epoch 1\n",
      "-------------------------\n",
      "loss: 2.2951674  [ 6400/60000]\n",
      "loss: 2.2900686  [12800/60000]\n",
      "loss: 2.2661388  [19200/60000]\n",
      "loss: 2.2567732  [25600/60000]\n",
      "loss: 2.2451496  [32000/60000]\n",
      "loss: 2.2214789  [38400/60000]\n",
      "loss: 2.2104642  [44800/60000]\n",
      "loss: 2.2094684  [51200/60000]\n",
      "loss: 2.1649466  [57600/60000]\n",
      "Accuracy: 0.4655, Test Loss: 2.16799760\n",
      "\n",
      "Epoch 2\n",
      "-------------------------\n",
      "loss: 2.1460125  [ 6400/60000]\n",
      "loss: 2.1292515  [12800/60000]\n",
      "loss: 2.0807636  [19200/60000]\n",
      "loss: 2.0933945  [25600/60000]\n",
      "loss: 2.0613394  [32000/60000]\n",
      "loss: 2.0179100  [38400/60000]\n",
      "loss: 2.0061774  [44800/60000]\n",
      "loss: 2.0024707  [51200/60000]\n",
      "loss: 1.9069356  [57600/60000]\n",
      "Accuracy: 0.6099, Test Loss: 1.90799075\n",
      "\n",
      "Epoch 3\n",
      "-------------------------\n",
      "loss: 1.8617131  [ 6400/60000]\n",
      "loss: 1.8273087  [12800/60000]\n",
      "loss: 1.7650808  [19200/60000]\n",
      "loss: 1.7910763  [25600/60000]\n",
      "loss: 1.7078481  [32000/60000]\n",
      "loss: 1.6751077  [38400/60000]\n",
      "loss: 1.6513369  [44800/60000]\n",
      "loss: 1.6689655  [51200/60000]\n",
      "loss: 1.5338740  [57600/60000]\n",
      "Accuracy: 0.6249, Test Loss: 1.52741791\n",
      "\n",
      "Epoch 4\n",
      "-------------------------\n",
      "loss: 1.4692606  [ 6400/60000]\n",
      "loss: 1.4606146  [12800/60000]\n",
      "loss: 1.3893623  [19200/60000]\n",
      "loss: 1.4910144  [25600/60000]\n",
      "loss: 1.3369694  [32000/60000]\n",
      "loss: 1.3490058  [38400/60000]\n",
      "loss: 1.3503098  [44800/60000]\n",
      "loss: 1.3958273  [51200/60000]\n",
      "loss: 1.2488297  [57600/60000]\n",
      "Accuracy: 0.6396, Test Loss: 1.24480282\n",
      "\n",
      "Epoch 5\n",
      "-------------------------\n",
      "loss: 1.1881015  [ 6400/60000]\n",
      "loss: 1.2301319  [12800/60000]\n",
      "loss: 1.1199337  [19200/60000]\n",
      "loss: 1.3130810  [25600/60000]\n",
      "loss: 1.0864319  [32000/60000]\n",
      "loss: 1.1426847  [38400/60000]\n",
      "loss: 1.1788238  [44800/60000]\n",
      "loss: 1.2231749  [51200/60000]\n",
      "loss: 1.0732058  [57600/60000]\n",
      "Accuracy: 0.6503, Test Loss: 1.07451668\n",
      "\n",
      "Done -)\n"
     ]
    }
   ],
   "source": [
    "epochs = 5\n",
    "for t in range(epochs):\n",
    "    print(f'Epoch {t+1}\\n-------------------------')\n",
    "    train(train_dataloader, model, loss_func, optimizer)\n",
    "    test(test_dataloader, model, loss_func)\n",
    "print('Done -)')\n"
   ]
  },
  {
   "cell_type": "code",
   "execution_count": 17,
   "metadata": {},
   "outputs": [],
   "source": [
    "torch.save(model.state_dict(), \"data/save_model/model.pth\")"
   ]
  },
  {
   "cell_type": "code",
   "execution_count": 18,
   "metadata": {},
   "outputs": [
    {
     "data": {
      "text/plain": [
       "<All keys matched successfully>"
      ]
     },
     "execution_count": 18,
     "metadata": {},
     "output_type": "execute_result"
    }
   ],
   "source": [
    "model = NeuralNetwork()\n",
    "model.load_state_dict(torch.load('data/save_model/model.pth'))"
   ]
  },
  {
   "cell_type": "code",
   "execution_count": 19,
   "metadata": {},
   "outputs": [
    {
     "data": {
      "text/plain": [
       "<matplotlib.image.AxesImage at 0x28f638a1280>"
      ]
     },
     "execution_count": 19,
     "metadata": {},
     "output_type": "execute_result"
    },
    {
     "data": {
      "image/png": "[encoded data removed]",
      "text/plain": [
       "<Figure size 640x480 with 1 Axes>"
      ]
     },
     "metadata": {},
     "output_type": "display_data"
    }
   ],
   "source": [
    "model.eval()\n",
    "x, y = test_data[0]\n",
    "pred = model(x)\n",
    "\n",
    "classes = training_data.classes\n",
    "\n",
    "predicted = classes[pred[0].argmax(0)]\n",
    "actual = classes[y]\n",
    "\n",
    "plt.title(f'y_pred: {predicted}, y_true: {actual}')\n",
    "plt.imshow(x[0], cmap = matplotlib.cm.binary)"
   ]
  },
  {
   "cell_type": "code",
   "execution_count": null,
   "metadata": {},
   "outputs": [],
   "source": []
  }
 ],
 "metadata": {
  "kernelspec": {
   "display_name": "Python [conda env:py38] *",
   "language": "python",
   "name": "conda-env-py38-py"
  },
  "language_info": {
   "codemirror_mode": {
    "name": "ipython",
    "version": 3
   },
   "file_extension": ".py",
   "mimetype": "text/x-python",
   "name": "python",
   "nbconvert_exporter": "python",
   "pygments_lexer": "ipython3",
   "version": "3.8.0"
  }
 },
 "nbformat": 4,
 "nbformat_minor": 2
}
